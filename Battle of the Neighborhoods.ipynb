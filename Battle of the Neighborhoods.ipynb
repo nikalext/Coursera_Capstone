{
    "cells": [
        {
            "cell_type": "markdown",
            "metadata": {
                "collapsed": true
            },
            "source": "# The Battle of Neighborhoods\n\n## Week 1 \n\n\n### Introduction / Bussiness Problem\n\nAs people move from New York City to Toronto and vice versa, many are worried about the new changes they would bring in their lives. They are concerned about their neighborhoods and wish to move to a similar area they live in. It would be beneficial if they could know the neighborhood that matches their current one. This would ease their nervousness and help them properly focus on the actual neighborhood of their liking rather than regretting the choice after the move. Therefore we would try to identify and compare each area in New York and Toronto and create a similar grouping to help people identify their similar neighborhoods in the other city. \n\nWe would plan to capture all the neighborhoods in New York and Toronto cities. Using the FourSquare integration, we could then find all types of places surrounding these neighborhoods. Break them into religious, restaurants, schools/colleges, parks, movie theaters, etc. Based on this information, we could then utilize K-means clustering to similar group neighborhoods together\n\n\n### Data Section \n\n**Data Sources:** We use public libraries and API's in this project\n\n1. Public Data : \n \n    The New York data about their neighbourhoods would be downloaded from NYC Planning website. The data would list all the neighbourhoods and the geographic data.[Link](https://www1.nyc.gov/site/planning/data-maps/open-data.page)\n                 \n    The Toronto zip codes along with their neighbourhood names can be downloaded from the wiki page [Link](https://en.wikipedia.org/wiki/List_of_postal_codes_of_Canada:_M)\n                 \n                 \n2. Foursquare API : \n\n      Foursquare provides a valuable and publically accessible location information like the ameneties in nearby locations. We use their developer tools to access the required information about the neighboords in a city. Using these accessed information we then rank the neighborhoods based on the ameneties they have. This services is free of charge.\n\n\n**K-Means Clustering Algorithm on the Data** \n                 \n  We can use K-Means Clustering algorithm to group venues in a neighbourhood , then we can reduce the number of individual venue comparisons to be done against each neighborhood. We can do these comparisons against the types of venue, individually, collectively, or alltogether.\n           "
        }
    ],
    "metadata": {
        "kernelspec": {
            "display_name": "Python 3.7",
            "language": "python",
            "name": "python3"
        },
        "language_info": {
            "codemirror_mode": {
                "name": "ipython",
                "version": 3
            },
            "file_extension": ".py",
            "mimetype": "text/x-python",
            "name": "python",
            "nbconvert_exporter": "python",
            "pygments_lexer": "ipython3",
            "version": "3.7.10"
        }
    },
    "nbformat": 4,
    "nbformat_minor": 1
}