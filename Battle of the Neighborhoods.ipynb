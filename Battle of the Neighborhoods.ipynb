{
    "cells": [
        {
            "cell_type": "markdown",
            "metadata": {
                "collapsed": true
            },
            "source": "# The Battle of Neighborhoods\n\n## Week 1 \n\n\n### Introduction / Bussiness Problem\n\nAs people move from New York City to Toronto and vice versa, many are worried of the new changes that the move would bring in their lives. They are worried about their neighbourhoods and wish that they could move to a similar neighbourhood they live in. It would be very helpful if they could know the neighbourhood that matches to their current one. This would ease out their nervousness and help them to properly focus on the actual neighbourhood of their liking rather than regretting the choice after the move. Therefore we would try to identify and compare each neighbourhoods in New York and Torronto and create a similarity grouping that would help people to identify their similar neighbourhood in the othet city. \n\nOur plan would be to first start by capturing all the neighbourhoods in New York and Toronto cities. Using the FourSquare integration, we could then find all types of places surrounding these neighbourhoods. Break them into categories like religious, restaurants, schools/colleges, parks, movie theaters etc. Based on this information, we could then utalize K-means clustering to group similar neighbourhoods together.\n\n\n### Data Section \n\n**Data Sources:** We use public libraries and API's in this project\n1. Public Data : \n                 The New York data about their neighbourhoods would be downloaded from NYC Planning website. The data would list all the neighbourhoods and the geographic data.\n                 Link:https://www1.nyc.gov/site/planning/data-maps/open-data.page\n                 The Toronto zip codes along with their neighbourhood names can be downloaded from the wiki page \n                 Link: https://en.wikipedia.org/wiki/List_of_postal_codes_of_Canada:_M\n                 \n                 \n2. Foursquare API : \n                 Foursquare provides a valuable and publically accessible location information like the ameneties in nearby locations. We use their developer tools to access the required information about the neighboords in a city. Using these accessed information we then rank the neighborhoods based on the ameneties they have. This services is free of charge.\n\n3. K-Means Clustering Algorithm on the Data : \n                 We can use K-Means Clustering algorithm to group venues in a neighbourhood , then we can reduce the number of individual venue comparisons to be done against each neighborhood. We can do these comparisons against the types of venue, individually, collectively, or alltogether.\n           "
        }
    ],
    "metadata": {
        "kernelspec": {
            "display_name": "Python 3.7",
            "language": "python",
            "name": "python3"
        },
        "language_info": {
            "codemirror_mode": {
                "name": "ipython",
                "version": 3
            },
            "file_extension": ".py",
            "mimetype": "text/x-python",
            "name": "python",
            "nbconvert_exporter": "python",
            "pygments_lexer": "ipython3",
            "version": "3.7.10"
        }
    },
    "nbformat": 4,
    "nbformat_minor": 1
}